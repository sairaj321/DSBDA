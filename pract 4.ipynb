{
 "cells": [
  {
   "cell_type": "code",
   "execution_count": 3,
   "id": "effe70f1-1c5c-40ce-96e3-6637c0eea2d0",
   "metadata": {},
   "outputs": [
    {
     "name": "stdout",
     "output_type": "stream",
     "text": [
      "      id               name               nationality                 city  \\\n",
      "0      0          Kiana Lor                     China               Suzhou   \n",
      "1      1     Joshua Lonaker  United States of America        Santa Clarita   \n",
      "2      2      Dakota Blanco  United States of America              Oakland   \n",
      "3      3    Natasha Yarusso  United States of America        Castro Valley   \n",
      "4      4     Brooke Cazares                    Brazil  São José dos Campos   \n",
      "..   ...                ...                       ...                  ...   \n",
      "302  302        Austin Haas  United States of America             Columbus   \n",
      "303  303    Madison Fithian  United States of America          Los Angeles   \n",
      "304  304  Zachary Mulvahill  United States of America          Los Angeles   \n",
      "305  305   Eliana Michelsen  United States of America              Oakland   \n",
      "306  306    Dane Whittemore                    Canada              Toronto   \n",
      "\n",
      "     latitude  longitude gender  ethnic.group  age  english.grade  math.grade  \\\n",
      "0       31.31     120.62      F           NaN   22            3.5         3.7   \n",
      "1       34.39    -118.54      M           NaN   22            2.9         3.2   \n",
      "2       37.80    -122.27      F           NaN   22            3.9         3.8   \n",
      "3       37.69    -122.09      F           NaN   20            3.3         2.8   \n",
      "4      -23.18     -45.88      F           NaN   21            3.7         2.6   \n",
      "..        ...        ...    ...           ...  ...            ...         ...   \n",
      "302     39.96     -83.00      M           NaN   20            3.6         3.7   \n",
      "303     34.05    -118.24      F           NaN   20            3.6         3.9   \n",
      "304     34.05    -118.24      M           NaN   20            3.2         3.4   \n",
      "305     37.80    -122.27      F           NaN   23            3.0         2.8   \n",
      "306     43.67     -79.42      M           NaN   21            3.8         3.2   \n",
      "\n",
      "     sciences.grade  language.grade  portfolio.rating  coverletter.rating  \\\n",
      "0               3.1             1.0                 4                 4.0   \n",
      "1               3.6             5.0                 5                 4.0   \n",
      "2               3.2             5.0                 3                 3.0   \n",
      "3               3.2             5.0                 5                 2.0   \n",
      "4               3.4             1.0                 4                 4.0   \n",
      "..              ...             ...               ...                 ...   \n",
      "302             3.1             5.0                 4                 5.0   \n",
      "303             4.0             5.0                 5                 5.0   \n",
      "304             3.9             5.0                 5                 5.0   \n",
      "305             2.9             5.0                 4                 4.0   \n",
      "306             4.0             5.0                 5                 4.0   \n",
      "\n",
      "     refletter.rating  \n",
      "0                   4  \n",
      "1                   5  \n",
      "2                   4  \n",
      "3                   4  \n",
      "4                   5  \n",
      "..                ...  \n",
      "302                 5  \n",
      "303                 3  \n",
      "304                 3  \n",
      "305                 5  \n",
      "306                 5  \n",
      "\n",
      "[307 rows x 16 columns]\n"
     ]
    }
   ],
   "source": [
    "import pandas as pd\n",
    "import numpy as np\n",
    "df=pd.read_csv(r\"C:\\Engineering\\ALL IT\\SEM 6\\DSBDA\\student-dataset.csv\")\n",
    "print(df)"
   ]
  },
  {
   "cell_type": "code",
   "execution_count": 54,
   "id": "d476ec3e-7327-4468-b8b7-103c3cab53bc",
   "metadata": {},
   "outputs": [
    {
     "name": "stdout",
     "output_type": "stream",
     "text": [
      "original data Frame:\n",
      "\n",
      "   Roll-num  Age    Name\n",
      "0        10   17     sai\n",
      "1        20  178   kiran\n",
      "2        30  196   rohit\n",
      "3        40   20  tusher\n",
      "4        50   39   dipak\n"
     ]
    }
   ],
   "source": [
    "import pandas as pd\n",
    "data={\"Roll-num\":[10,20,30,40,50],\"Age\":[17,178,196,20,39],\"Name\":['sai','kiran','rohit','tusher','dipak']}\n",
    "block=pd.DataFrame(data)\n",
    "print(\"original data Frame:\\n\",)\n",
    "print(block)"
   ]
  },
  {
   "cell_type": "code",
   "execution_count": 18,
   "id": "d5274e29-321f-402c-acd3-2b9369f74a7d",
   "metadata": {},
   "outputs": [
    {
     "name": "stdout",
     "output_type": "stream",
     "text": [
      " Extract data of specific rows of a dataframe\n"
     ]
    },
    {
     "data": {
      "text/html": [
       "<div>\n",
       "<style scoped>\n",
       "    .dataframe tbody tr th:only-of-type {\n",
       "        vertical-align: middle;\n",
       "    }\n",
       "\n",
       "    .dataframe tbody tr th {\n",
       "        vertical-align: top;\n",
       "    }\n",
       "\n",
       "    .dataframe thead th {\n",
       "        text-align: right;\n",
       "    }\n",
       "</style>\n",
       "<table border=\"1\" class=\"dataframe\">\n",
       "  <thead>\n",
       "    <tr style=\"text-align: right;\">\n",
       "      <th></th>\n",
       "      <th>Roll-num</th>\n",
       "      <th>Age</th>\n",
       "      <th>Name</th>\n",
       "    </tr>\n",
       "  </thead>\n",
       "  <tbody>\n",
       "    <tr>\n",
       "      <th>0</th>\n",
       "      <td>10</td>\n",
       "      <td>17</td>\n",
       "      <td>sai</td>\n",
       "    </tr>\n",
       "    <tr>\n",
       "      <th>1</th>\n",
       "      <td>20</td>\n",
       "      <td>18</td>\n",
       "      <td>kiran</td>\n",
       "    </tr>\n",
       "    <tr>\n",
       "      <th>3</th>\n",
       "      <td>40</td>\n",
       "      <td>20</td>\n",
       "      <td>tusher</td>\n",
       "    </tr>\n",
       "  </tbody>\n",
       "</table>\n",
       "</div>"
      ],
      "text/plain": [
       "   Roll-num  Age    Name\n",
       "0        10   17     sai\n",
       "1        20   18   kiran\n",
       "3        40   20  tusher"
      ]
     },
     "execution_count": 18,
     "metadata": {},
     "output_type": "execute_result"
    }
   ],
   "source": [
    "print(\" Extract data of specific rows of a dataframe\")\n",
    "block.loc[[0,1,3]]"
   ]
  },
  {
   "cell_type": "code",
   "execution_count": 17,
   "id": "a9b20aca-980a-48e3-a27e-d94d19501278",
   "metadata": {},
   "outputs": [
    {
     "name": "stdout",
     "output_type": "stream",
     "text": [
      "rows using slicing\n"
     ]
    },
    {
     "data": {
      "text/html": [
       "<div>\n",
       "<style scoped>\n",
       "    .dataframe tbody tr th:only-of-type {\n",
       "        vertical-align: middle;\n",
       "    }\n",
       "\n",
       "    .dataframe tbody tr th {\n",
       "        vertical-align: top;\n",
       "    }\n",
       "\n",
       "    .dataframe thead th {\n",
       "        text-align: right;\n",
       "    }\n",
       "</style>\n",
       "<table border=\"1\" class=\"dataframe\">\n",
       "  <thead>\n",
       "    <tr style=\"text-align: right;\">\n",
       "      <th></th>\n",
       "      <th>Roll-num</th>\n",
       "      <th>Age</th>\n",
       "      <th>Name</th>\n",
       "    </tr>\n",
       "  </thead>\n",
       "  <tbody>\n",
       "    <tr>\n",
       "      <th>0</th>\n",
       "      <td>10</td>\n",
       "      <td>17</td>\n",
       "      <td>sai</td>\n",
       "    </tr>\n",
       "    <tr>\n",
       "      <th>1</th>\n",
       "      <td>20</td>\n",
       "      <td>18</td>\n",
       "      <td>kiran</td>\n",
       "    </tr>\n",
       "    <tr>\n",
       "      <th>2</th>\n",
       "      <td>30</td>\n",
       "      <td>19</td>\n",
       "      <td>rohit</td>\n",
       "    </tr>\n",
       "    <tr>\n",
       "      <th>3</th>\n",
       "      <td>40</td>\n",
       "      <td>20</td>\n",
       "      <td>tusher</td>\n",
       "    </tr>\n",
       "  </tbody>\n",
       "</table>\n",
       "</div>"
      ],
      "text/plain": [
       "   Roll-num  Age    Name\n",
       "0        10   17     sai\n",
       "1        20   18   kiran\n",
       "2        30   19   rohit\n",
       "3        40   20  tusher"
      ]
     },
     "execution_count": 17,
     "metadata": {},
     "output_type": "execute_result"
    }
   ],
   "source": [
    "print(\"rows using slicing\")\n",
    "block.loc[0:3]"
   ]
  },
  {
   "cell_type": "code",
   "execution_count": 16,
   "id": "9beb4332-7f4c-42c9-9021-6d73ac0168e0",
   "metadata": {},
   "outputs": [
    {
     "name": "stdout",
     "output_type": "stream",
     "text": [
      "particular columns using labels\n"
     ]
    },
    {
     "data": {
      "text/html": [
       "<div>\n",
       "<style scoped>\n",
       "    .dataframe tbody tr th:only-of-type {\n",
       "        vertical-align: middle;\n",
       "    }\n",
       "\n",
       "    .dataframe tbody tr th {\n",
       "        vertical-align: top;\n",
       "    }\n",
       "\n",
       "    .dataframe thead th {\n",
       "        text-align: right;\n",
       "    }\n",
       "</style>\n",
       "<table border=\"1\" class=\"dataframe\">\n",
       "  <thead>\n",
       "    <tr style=\"text-align: right;\">\n",
       "      <th></th>\n",
       "      <th>Age</th>\n",
       "      <th>Name</th>\n",
       "    </tr>\n",
       "  </thead>\n",
       "  <tbody>\n",
       "    <tr>\n",
       "      <th>0</th>\n",
       "      <td>17</td>\n",
       "      <td>sai</td>\n",
       "    </tr>\n",
       "    <tr>\n",
       "      <th>1</th>\n",
       "      <td>18</td>\n",
       "      <td>kiran</td>\n",
       "    </tr>\n",
       "    <tr>\n",
       "      <th>2</th>\n",
       "      <td>19</td>\n",
       "      <td>rohit</td>\n",
       "    </tr>\n",
       "  </tbody>\n",
       "</table>\n",
       "</div>"
      ],
      "text/plain": [
       "   Age   Name\n",
       "0   17    sai\n",
       "1   18  kiran\n",
       "2   19  rohit"
      ]
     },
     "execution_count": 16,
     "metadata": {},
     "output_type": "execute_result"
    }
   ],
   "source": [
    "print(\"particular columns using labels\")\n",
    "block.loc[0:2,['Age','Name']]"
   ]
  },
  {
   "cell_type": "code",
   "execution_count": 15,
   "id": "2ae786e0-530d-42fd-912c-40a979d0712e",
   "metadata": {},
   "outputs": [
    {
     "name": "stdout",
     "output_type": "stream",
     "text": [
      "iloc() function\n"
     ]
    },
    {
     "data": {
      "text/html": [
       "<div>\n",
       "<style scoped>\n",
       "    .dataframe tbody tr th:only-of-type {\n",
       "        vertical-align: middle;\n",
       "    }\n",
       "\n",
       "    .dataframe tbody tr th {\n",
       "        vertical-align: top;\n",
       "    }\n",
       "\n",
       "    .dataframe thead th {\n",
       "        text-align: right;\n",
       "    }\n",
       "</style>\n",
       "<table border=\"1\" class=\"dataframe\">\n",
       "  <thead>\n",
       "    <tr style=\"text-align: right;\">\n",
       "      <th></th>\n",
       "      <th>Roll-num</th>\n",
       "      <th>Name</th>\n",
       "    </tr>\n",
       "  </thead>\n",
       "  <tbody>\n",
       "    <tr>\n",
       "      <th>0</th>\n",
       "      <td>10</td>\n",
       "      <td>sai</td>\n",
       "    </tr>\n",
       "    <tr>\n",
       "      <th>1</th>\n",
       "      <td>20</td>\n",
       "      <td>kiran</td>\n",
       "    </tr>\n",
       "    <tr>\n",
       "      <th>3</th>\n",
       "      <td>40</td>\n",
       "      <td>tusher</td>\n",
       "    </tr>\n",
       "  </tbody>\n",
       "</table>\n",
       "</div>"
      ],
      "text/plain": [
       "   Roll-num    Name\n",
       "0        10     sai\n",
       "1        20   kiran\n",
       "3        40  tusher"
      ]
     },
     "execution_count": 15,
     "metadata": {},
     "output_type": "execute_result"
    }
   ],
   "source": [
    "print(\"iloc() function\")\n",
    "block.iloc[[0,1,3],[0,2]]\n"
   ]
  },
  {
   "cell_type": "code",
   "execution_count": 23,
   "id": "3aec25de-0539-4615-8739-1f866d2dbc4a",
   "metadata": {},
   "outputs": [
    {
     "name": "stdout",
     "output_type": "stream",
     "text": [
      "Shape\n",
      "[[ 1  2  3]\n",
      " [ 4  5  6]\n",
      " [ 7  8 10]\n",
      " [13 23 24]]\n"
     ]
    }
   ],
   "source": [
    "print(\"Shape\")\n",
    "import numpy as np\n",
    "arr=np.array([1,2,3,4,5,6,7,8,10,13,23,24])\n",
    "newarr=arr.reshape(4,3)\n",
    "print(newarr)"
   ]
  },
  {
   "cell_type": "code",
   "execution_count": 24,
   "id": "71ceb70b-95c8-4a1a-8870-9f24315e816c",
   "metadata": {},
   "outputs": [],
   "source": [
    "x=np.arange(12)\n",
    "y=np.reshape(x,(4,3))"
   ]
  },
  {
   "cell_type": "code",
   "execution_count": 25,
   "id": "91d185c2-3f08-4a8e-a6c8-f952bc614319",
   "metadata": {},
   "outputs": [
    {
     "name": "stdout",
     "output_type": "stream",
     "text": [
      "      id               name               nationality                 city  \\\n",
      "0      0          Kiana Lor                     China               Suzhou   \n",
      "1      1     Joshua Lonaker  United States of America        Santa Clarita   \n",
      "2      2      Dakota Blanco  United States of America              Oakland   \n",
      "3      3    Natasha Yarusso  United States of America        Castro Valley   \n",
      "4      4     Brooke Cazares                    Brazil  São José dos Campos   \n",
      "..   ...                ...                       ...                  ...   \n",
      "302  302        Austin Haas  United States of America             Columbus   \n",
      "303  303    Madison Fithian  United States of America          Los Angeles   \n",
      "304  304  Zachary Mulvahill  United States of America          Los Angeles   \n",
      "305  305   Eliana Michelsen  United States of America              Oakland   \n",
      "306  306    Dane Whittemore                    Canada              Toronto   \n",
      "\n",
      "     latitude  longitude gender  ethnic.group  age  english.grade  math.grade  \\\n",
      "0       31.31     120.62      F           NaN   22            3.5         3.7   \n",
      "1       34.39    -118.54      M           NaN   22            2.9         3.2   \n",
      "2       37.80    -122.27      F           NaN   22            3.9         3.8   \n",
      "3       37.69    -122.09      F           NaN   20            3.3         2.8   \n",
      "4      -23.18     -45.88      F           NaN   21            3.7         2.6   \n",
      "..        ...        ...    ...           ...  ...            ...         ...   \n",
      "302     39.96     -83.00      M           NaN   20            3.6         3.7   \n",
      "303     34.05    -118.24      F           NaN   20            3.6         3.9   \n",
      "304     34.05    -118.24      M           NaN   20            3.2         3.4   \n",
      "305     37.80    -122.27      F           NaN   23            3.0         2.8   \n",
      "306     43.67     -79.42      M           NaN   21            3.8         3.2   \n",
      "\n",
      "     sciences.grade  language.grade  portfolio.rating  coverletter.rating  \\\n",
      "0               3.1             1.0                 4                 4.0   \n",
      "1               3.6             5.0                 5                 4.0   \n",
      "2               3.2             5.0                 3                 3.0   \n",
      "3               3.2             5.0                 5                 2.0   \n",
      "4               3.4             1.0                 4                 4.0   \n",
      "..              ...             ...               ...                 ...   \n",
      "302             3.1             5.0                 4                 5.0   \n",
      "303             4.0             5.0                 5                 5.0   \n",
      "304             3.9             5.0                 5                 5.0   \n",
      "305             2.9             5.0                 4                 4.0   \n",
      "306             4.0             5.0                 5                 4.0   \n",
      "\n",
      "     refletter.rating  \n",
      "0                   4  \n",
      "1                   5  \n",
      "2                   4  \n",
      "3                   4  \n",
      "4                   5  \n",
      "..                ...  \n",
      "302                 5  \n",
      "303                 3  \n",
      "304                 3  \n",
      "305                 5  \n",
      "306                 5  \n",
      "\n",
      "[307 rows x 16 columns]\n"
     ]
    }
   ],
   "source": [
    "df=pd.read_csv(r\"C:\\Engineering\\ALL IT\\SEM 6\\DSBDA\\student-dataset.csv\")\n",
    "print(df)"
   ]
  },
  {
   "cell_type": "code",
   "execution_count": 33,
   "id": "45074fba-1b68-4d85-a54c-7b072ca06b4b",
   "metadata": {},
   "outputs": [
    {
     "name": "stdout",
     "output_type": "stream",
     "text": [
      "   Roll-num  Age   Name\n",
      "0        10   17    sai\n",
      "1        20   18  kiran\n",
      "   Roll-num  Age    Name\n",
      "3        40   20  tusher\n",
      "4        50   39   dipak\n"
     ]
    }
   ],
   "source": [
    "#concat\n",
    "df2=block[:2]\n",
    "df3=block[3:]\n",
    "print(df2)\n",
    "print(df3)\n"
   ]
  },
  {
   "cell_type": "code",
   "execution_count": 40,
   "id": "82cd5491-17f2-41bb-ae10-41d37f142bb8",
   "metadata": {},
   "outputs": [
    {
     "name": "stdout",
     "output_type": "stream",
     "text": [
      "   Roll-num  Age\n",
      "0        10   17\n",
      "1        20   18\n",
      "2        30   19\n",
      "3        40   20\n",
      "4        50   39\n",
      "     Name\n",
      "0     sai\n",
      "1   kiran\n",
      "2   rohit\n",
      "3  tusher\n",
      "4   dipak\n"
     ]
    }
   ],
   "source": [
    "df6=pd.concat([df2,df3],axis=0)\n",
    "df4=block.iloc[:,:2]\n",
    "df5=block.iloc[:,2:]\n",
    "print(df4)\n",
    "print(df5)"
   ]
  },
  {
   "cell_type": "code",
   "execution_count": 44,
   "id": "f270b90f-1319-45c8-836f-cc52427c187f",
   "metadata": {},
   "outputs": [
    {
     "name": "stdout",
     "output_type": "stream",
     "text": [
      "   Roll-num  Age    Name\n",
      "0        10   17     sai\n",
      "1        20   18   kiran\n",
      "2        30   19   rohit\n",
      "3        40   20  tusher\n",
      "4        50   39   dipak\n",
      "     Name\n",
      "0     sai\n",
      "1   kiran\n",
      "2   rohit\n",
      "3  tusher\n",
      "4   dipak\n"
     ]
    }
   ],
   "source": [
    "df6=pd.concat([df2,df3],axis=1)\n",
    "df2=block.iloc[:,:3]\n",
    "df3=block.iloc[:,2:]\n",
    "print(df2)\n",
    "print(df3)"
   ]
  },
  {
   "cell_type": "code",
   "execution_count": 52,
   "id": "67d3a868-41eb-4438-8be6-2fa879e25b19",
   "metadata": {},
   "outputs": [],
   "source": [
    "data1={\"Roll-num\":[10,20,30],\"Name\":['sai','kiran','tusher']}\n",
    "block1=pd.DataFrame(data1)"
   ]
  },
  {
   "cell_type": "code",
   "execution_count": 53,
   "id": "839cf42d-f77e-4ce6-931e-cadbd6325137",
   "metadata": {},
   "outputs": [
    {
     "name": "stdout",
     "output_type": "stream",
     "text": [
      "   Roll-num_x  Age    Name  Roll-num_y\n",
      "0          10   17     sai          10\n",
      "1          20   18   kiran          20\n",
      "2          40   20  tusher          30\n"
     ]
    }
   ],
   "source": [
    "#merge \n",
    "marged=block.merge(block1,on='Name',how='inner')\n",
    "print(marged)"
   ]
  },
  {
   "cell_type": "code",
   "execution_count": 55,
   "id": "02aa4068-1988-4fb6-9768-0a14737b684b",
   "metadata": {},
   "outputs": [
    {
     "name": "stdout",
     "output_type": "stream",
     "text": [
      "   Roll-num  Age    Name\n",
      "0        10   17     sai\n",
      "3        40   20  tusher\n",
      "4        50   39   dipak\n",
      "1        20  178   kiran\n",
      "2        30  196   rohit\n"
     ]
    }
   ],
   "source": [
    "#sort\n",
    "sort=block.sort_values(by='Age',ascending=True)\n",
    "print(sort)"
   ]
  },
  {
   "cell_type": "code",
   "execution_count": 57,
   "id": "aa12e86b-e95d-48d0-ae79-0d631ecf964d",
   "metadata": {},
   "outputs": [
    {
     "name": "stdout",
     "output_type": "stream",
     "text": [
      "            0      1      2       3      4\n",
      "Roll-num   10     20     30      40     50\n",
      "Age        17    178    196      20     39\n",
      "Name      sai  kiran  rohit  tusher  dipak\n"
     ]
    }
   ],
   "source": [
    "#transpose \n",
    "tran=block.T\n",
    "print(tran)"
   ]
  },
  {
   "cell_type": "code",
   "execution_count": 2,
   "id": "2723034d-72fa-4c9a-a7e5-e9851501babb",
   "metadata": {},
   "outputs": [
    {
     "name": "stdout",
     "output_type": "stream",
     "text": [
      "name      date     aa     bb     cc\n",
      "0     1/2/2023  200.0  300.0    NaN\n",
      "1     2/2/2023    NaN    NaN  900.0\n",
      "2     3/2/2023    NaN    NaN  566.0\n",
      "name      date     aa     bb     cc\n",
      "0     1/2/2023  200.0  300.0    NaN\n",
      "1     2/2/2023    NaN    NaN  900.0\n",
      "2     3/2/2023    NaN    NaN  566.0\n"
     ]
    }
   ],
   "source": [
    "#casting data to wide format\n",
    "import pandas as pd\n",
    "block=pd.read_csv(r\"C:\\Engineering\\ALL IT\\SEM 6\\DSBDA\\abc.txt\",sep=\" \",names=['id','date','name','money'])\n",
    "cast=block.pivot(index='date',columns='name',values='money').reset_index()\n",
    "print(cast)\n"
   ]
  },
  {
   "cell_type": "code",
   "execution_count": 4,
   "id": "837cd1be-2554-42ba-8b77-6ff25da17bdd",
   "metadata": {},
   "outputs": [
    {
     "data": {
      "text/html": [
       "<div>\n",
       "<style scoped>\n",
       "    .dataframe tbody tr th:only-of-type {\n",
       "        vertical-align: middle;\n",
       "    }\n",
       "\n",
       "    .dataframe tbody tr th {\n",
       "        vertical-align: top;\n",
       "    }\n",
       "\n",
       "    .dataframe thead th {\n",
       "        text-align: right;\n",
       "    }\n",
       "</style>\n",
       "<table border=\"1\" class=\"dataframe\">\n",
       "  <thead>\n",
       "    <tr style=\"text-align: right;\">\n",
       "      <th></th>\n",
       "      <th>id</th>\n",
       "      <th>latitude</th>\n",
       "      <th>longitude</th>\n",
       "      <th>ethnic.group</th>\n",
       "      <th>age</th>\n",
       "      <th>english.grade</th>\n",
       "      <th>math.grade</th>\n",
       "      <th>sciences.grade</th>\n",
       "      <th>language.grade</th>\n",
       "      <th>portfolio.rating</th>\n",
       "      <th>coverletter.rating</th>\n",
       "      <th>refletter.rating</th>\n",
       "    </tr>\n",
       "  </thead>\n",
       "  <tbody>\n",
       "    <tr>\n",
       "      <th>count</th>\n",
       "      <td>307.000000</td>\n",
       "      <td>307.000000</td>\n",
       "      <td>307.000000</td>\n",
       "      <td>0.0</td>\n",
       "      <td>307.000000</td>\n",
       "      <td>307.000000</td>\n",
       "      <td>307.000000</td>\n",
       "      <td>307.000000</td>\n",
       "      <td>307.000000</td>\n",
       "      <td>307.000000</td>\n",
       "      <td>307.000000</td>\n",
       "      <td>307.000000</td>\n",
       "    </tr>\n",
       "    <tr>\n",
       "      <th>mean</th>\n",
       "      <td>153.000000</td>\n",
       "      <td>32.863388</td>\n",
       "      <td>-64.539121</td>\n",
       "      <td>NaN</td>\n",
       "      <td>21.964169</td>\n",
       "      <td>3.369707</td>\n",
       "      <td>3.414332</td>\n",
       "      <td>3.446580</td>\n",
       "      <td>4.396417</td>\n",
       "      <td>3.986971</td>\n",
       "      <td>4.110749</td>\n",
       "      <td>4.188925</td>\n",
       "    </tr>\n",
       "    <tr>\n",
       "      <th>std</th>\n",
       "      <td>88.767487</td>\n",
       "      <td>13.498582</td>\n",
       "      <td>81.249146</td>\n",
       "      <td>NaN</td>\n",
       "      <td>1.248013</td>\n",
       "      <td>0.538724</td>\n",
       "      <td>0.476839</td>\n",
       "      <td>0.509081</td>\n",
       "      <td>0.996474</td>\n",
       "      <td>0.928749</td>\n",
       "      <td>0.823936</td>\n",
       "      <td>0.842193</td>\n",
       "    </tr>\n",
       "    <tr>\n",
       "      <th>min</th>\n",
       "      <td>0.000000</td>\n",
       "      <td>-33.450000</td>\n",
       "      <td>-123.130000</td>\n",
       "      <td>NaN</td>\n",
       "      <td>19.000000</td>\n",
       "      <td>1.500000</td>\n",
       "      <td>2.100000</td>\n",
       "      <td>1.400000</td>\n",
       "      <td>1.000000</td>\n",
       "      <td>1.000000</td>\n",
       "      <td>1.000000</td>\n",
       "      <td>1.000000</td>\n",
       "    </tr>\n",
       "    <tr>\n",
       "      <th>25%</th>\n",
       "      <td>76.500000</td>\n",
       "      <td>32.720000</td>\n",
       "      <td>-118.240000</td>\n",
       "      <td>NaN</td>\n",
       "      <td>21.000000</td>\n",
       "      <td>3.100000</td>\n",
       "      <td>3.100000</td>\n",
       "      <td>3.200000</td>\n",
       "      <td>4.000000</td>\n",
       "      <td>3.500000</td>\n",
       "      <td>4.000000</td>\n",
       "      <td>4.000000</td>\n",
       "    </tr>\n",
       "    <tr>\n",
       "      <th>50%</th>\n",
       "      <td>153.000000</td>\n",
       "      <td>34.390000</td>\n",
       "      <td>-99.140000</td>\n",
       "      <td>NaN</td>\n",
       "      <td>22.000000</td>\n",
       "      <td>3.500000</td>\n",
       "      <td>3.500000</td>\n",
       "      <td>3.600000</td>\n",
       "      <td>5.000000</td>\n",
       "      <td>4.000000</td>\n",
       "      <td>4.000000</td>\n",
       "      <td>4.000000</td>\n",
       "    </tr>\n",
       "    <tr>\n",
       "      <th>75%</th>\n",
       "      <td>229.500000</td>\n",
       "      <td>38.960000</td>\n",
       "      <td>-73.855000</td>\n",
       "      <td>NaN</td>\n",
       "      <td>23.000000</td>\n",
       "      <td>3.800000</td>\n",
       "      <td>3.800000</td>\n",
       "      <td>3.800000</td>\n",
       "      <td>5.000000</td>\n",
       "      <td>5.000000</td>\n",
       "      <td>5.000000</td>\n",
       "      <td>5.000000</td>\n",
       "    </tr>\n",
       "    <tr>\n",
       "      <th>max</th>\n",
       "      <td>306.000000</td>\n",
       "      <td>59.890000</td>\n",
       "      <td>139.750000</td>\n",
       "      <td>NaN</td>\n",
       "      <td>26.000000</td>\n",
       "      <td>4.000000</td>\n",
       "      <td>4.000000</td>\n",
       "      <td>4.000000</td>\n",
       "      <td>5.000000</td>\n",
       "      <td>5.000000</td>\n",
       "      <td>5.000000</td>\n",
       "      <td>5.000000</td>\n",
       "    </tr>\n",
       "  </tbody>\n",
       "</table>\n",
       "</div>"
      ],
      "text/plain": [
       "               id    latitude   longitude  ethnic.group         age  \\\n",
       "count  307.000000  307.000000  307.000000           0.0  307.000000   \n",
       "mean   153.000000   32.863388  -64.539121           NaN   21.964169   \n",
       "std     88.767487   13.498582   81.249146           NaN    1.248013   \n",
       "min      0.000000  -33.450000 -123.130000           NaN   19.000000   \n",
       "25%     76.500000   32.720000 -118.240000           NaN   21.000000   \n",
       "50%    153.000000   34.390000  -99.140000           NaN   22.000000   \n",
       "75%    229.500000   38.960000  -73.855000           NaN   23.000000   \n",
       "max    306.000000   59.890000  139.750000           NaN   26.000000   \n",
       "\n",
       "       english.grade  math.grade  sciences.grade  language.grade  \\\n",
       "count     307.000000  307.000000      307.000000      307.000000   \n",
       "mean        3.369707    3.414332        3.446580        4.396417   \n",
       "std         0.538724    0.476839        0.509081        0.996474   \n",
       "min         1.500000    2.100000        1.400000        1.000000   \n",
       "25%         3.100000    3.100000        3.200000        4.000000   \n",
       "50%         3.500000    3.500000        3.600000        5.000000   \n",
       "75%         3.800000    3.800000        3.800000        5.000000   \n",
       "max         4.000000    4.000000        4.000000        5.000000   \n",
       "\n",
       "       portfolio.rating  coverletter.rating  refletter.rating  \n",
       "count        307.000000          307.000000        307.000000  \n",
       "mean           3.986971            4.110749          4.188925  \n",
       "std            0.928749            0.823936          0.842193  \n",
       "min            1.000000            1.000000          1.000000  \n",
       "25%            3.500000            4.000000          4.000000  \n",
       "50%            4.000000            4.000000          4.000000  \n",
       "75%            5.000000            5.000000          5.000000  \n",
       "max            5.000000            5.000000          5.000000  "
      ]
     },
     "execution_count": 4,
     "metadata": {},
     "output_type": "execute_result"
    }
   ],
   "source": [
    "df.describe()"
   ]
  },
  {
   "cell_type": "code",
   "execution_count": 6,
   "id": "b45df213",
   "metadata": {},
   "outputs": [
    {
     "data": {
      "text/plain": [
       "(307, 16)"
      ]
     },
     "execution_count": 6,
     "metadata": {},
     "output_type": "execute_result"
    }
   ],
   "source": [
    "df.shape"
   ]
  },
  {
   "cell_type": "code",
   "execution_count": null,
   "id": "fef73301",
   "metadata": {},
   "outputs": [],
   "source": []
  }
 ],
 "metadata": {
  "kernelspec": {
   "display_name": "Python 3 (ipykernel)",
   "language": "python",
   "name": "python3"
  },
  "language_info": {
   "codemirror_mode": {
    "name": "ipython",
    "version": 3
   },
   "file_extension": ".py",
   "mimetype": "text/x-python",
   "name": "python",
   "nbconvert_exporter": "python",
   "pygments_lexer": "ipython3",
   "version": "3.9.7"
  }
 },
 "nbformat": 4,
 "nbformat_minor": 5
}
