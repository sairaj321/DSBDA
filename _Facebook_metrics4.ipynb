{
 "cells": [
  {
   "cell_type": "code",
   "execution_count": null,
   "id": "7ebd435b-f598-407a-acab-7e7f8fc400e5",
   "metadata": {},
   "outputs": [],
   "source": [
    "import pandas as pd\n",
    "import numpy as np \n",
    "df=pd.read_csv(r\"C:\\Engineering\\ALL IT\\SEM 6\\DSBDA\\student-dataset.csv\")\n",
    "df"
   ]
  },
  {
   "cell_type": "code",
   "execution_count": null,
   "id": "253f14f3-b47c-4a67-a9b1-bde0e7ac9a25",
   "metadata": {},
   "outputs": [],
   "source": [
    "df.describe()"
   ]
  },
  {
   "cell_type": "code",
   "execution_count": 6,
   "id": "9d6666f3-3de4-4545-8cc5-121e36d00082",
   "metadata": {},
   "outputs": [
    {
     "data": {
      "text/plain": [
       "(307, 16)"
      ]
     },
     "execution_count": 6,
     "metadata": {},
     "output_type": "execute_result"
    }
   ],
   "source": [
    "df.shape"
   ]
  },
  {
   "cell_type": "code",
   "execution_count": null,
   "id": "399e000d-161a-4db2-809a-93e24c7548d8",
   "metadata": {},
   "outputs": [],
   "source": [
    "#creating Subsets\n",
    "#Subset-1\n",
    "df1=df[['id','latitude','longitude']].loc[0:15]\n",
    "df1"
   ]
  },
  {
   "cell_type": "code",
   "execution_count": null,
   "id": "6ecc9f44-cf3d-4924-b9f5-123c3a763ed8",
   "metadata": {},
   "outputs": [],
   "source": [
    "#Subset-2\n",
    "df2=df[['id','latitude','longitude']].loc[16:30]\n",
    "df2"
   ]
  },
  {
   "cell_type": "code",
   "execution_count": null,
   "id": "c51b1216-77bc-4092-925d-d98a6e486acf",
   "metadata": {},
   "outputs": [],
   "source": [
    "#Subset-3\n",
    "df3=df[['id','latitude','longitude']].loc[31:50]\n",
    "df3"
   ]
  },
  {
   "cell_type": "code",
   "execution_count": null,
   "id": "28ca7caa-d862-43c6-a372-b5bf70c3c274",
   "metadata": {},
   "outputs": [],
   "source": [
    "# Merge Data (concating) subset-1, subset-2, subset-3\n",
    "marging=pd.concat([df1,df2,df3])\n",
    "marging"
   ]
  },
  {
   "cell_type": "code",
   "execution_count": null,
   "id": "7b4bf8a2-4d26-49ad-86da-7863e8685140",
   "metadata": {},
   "outputs": [],
   "source": [
    "#sort Data\n",
    "#age sort in ascending order\n",
    "sort_values=df.sort_values('age',ascending=True)\n",
    "sort_values"
   ]
  },
  {
   "cell_type": "code",
   "execution_count": 17,
   "id": "51c17d9f-358c-4459-8759-533f4df77b2e",
   "metadata": {},
   "outputs": [
    {
     "data": {
      "text/plain": [
       "(307, 16)"
      ]
     },
     "execution_count": 17,
     "metadata": {},
     "output_type": "execute_result"
    }
   ],
   "source": [
    "#Shape and Reshape Data\n",
    "shaping=df.shape\n",
    "shaping"
   ]
  },
  {
   "cell_type": "code",
   "execution_count": null,
   "id": "18ae072a-efc6-4f48-9721-eb14188b2e1e",
   "metadata": {},
   "outputs": [],
   "source": [
    "#Transposing data \n",
    "df.transpose()"
   ]
  },
  {
   "cell_type": "code",
   "execution_count": null,
   "id": "244d4b11-1291-49b0-9453-8576f0eba161",
   "metadata": {},
   "outputs": [],
   "source": [
    "#reshaping\n",
    "pivot_table= pd.pivot_table(df,index=['nationality','name'],values='age')\n",
    "print(pivot_table)"
   ]
  },
  {
   "cell_type": "code",
   "execution_count": null,
   "id": "783d26de-b0f1-48f1-93fe-8ba848ac2e17",
   "metadata": {},
   "outputs": [],
   "source": []
  }
 ],
 "metadata": {
  "kernelspec": {
   "display_name": "Python 3 (ipykernel)",
   "language": "python",
   "name": "python3"
  },
  "language_info": {
   "codemirror_mode": {
    "name": "ipython",
    "version": 3
   },
   "file_extension": ".py",
   "mimetype": "text/x-python",
   "name": "python",
   "nbconvert_exporter": "python",
   "pygments_lexer": "ipython3",
   "version": "3.9.7"
  }
 },
 "nbformat": 4,
 "nbformat_minor": 5
}
